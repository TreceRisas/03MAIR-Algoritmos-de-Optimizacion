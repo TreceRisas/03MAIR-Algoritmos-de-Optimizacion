{
  "cells": [
    {
      "cell_type": "markdown",
      "metadata": {
        "id": "hVbXYX-RfPWh"
      },
      "source": [
        "# Algoritmos de optimización - Trabajo Práctico<br>\n",
        "Nombre y Apellidos: Juan Ormeño Gabás\n",
        "\n",
        "Link: https://colab.research.google.com/drive/xxxxxxxxxxxxxxxxxxxxxxxxx\n",
        "\n",
        "Github: https://github.com/TreceRisas/03MAIR---Algoritmos-de-Optimizacion\n",
        "\n",
        "Problema:\n",
        ">1. Sesiones de doblaje<br>\n",
        "....                                "
      ]
    },
    {
      "cell_type": "markdown",
      "source": [],
      "metadata": {
        "id": "sN3FxX-R4v41"
      }
    },
    {
      "cell_type": "markdown",
      "metadata": {
        "id": "AF6HXbABvibD"
      },
      "source": [
        "### **Problema 1:** Se precisa coordinar el doblaje de una película. Los actores del doblaje deben coincidir en las tomas en las que sus personajes aparecen juntos en las diferentes tomas. Los actores de doblaje cobran todos la misma cantidad por cada día que deben desplazarse hasta el estudio de grabación independientemente del número de tomas que se graben. No es posible grabar más de 6 tomas por día. El objetivo es planificar las sesiones por día de manera que el gasto por los servicios de los actores de doblaje sea el menor posible."
      ]
    },
    {
      "cell_type": "markdown",
      "metadata": {
        "id": "i1tgCTuqZduo"
      },
      "source": [
        "## 🎯 Objetivo\n",
        "\n",
        "Planificar las sesiones por día de manera que el gasto por los servicios de los actores de doblaje sea **el menor posible** (minimizar número de días de grabación).\n",
        "\n",
        "## 📊 Datos\n",
        "\n",
        "- Número de actores: 10  \n",
        "- Número de tomas: 30  \n",
        "- Formato de la matriz:  \n",
        "  - 1 = el actor participa en la toma  \n",
        "  - 0 = no participa"
      ]
    },
    {
      "cell_type": "markdown",
      "metadata": {
        "id": "fgCqfILXZduq"
      },
      "source": [
        "## **Fuente del dataset:**  \n",
        "[Google Sheets CSV](https://docs.google.com/spreadsheets/d/1Ipn6IrbQP4ax8zOnivdBIw2lN0JISkJG4fXndYd27U0/edit#gid=0)\n"
      ]
    },
    {
      "cell_type": "markdown",
      "source": [
        "# 📦 Librerías necesarias\n",
        "* pandas: Para manejo de datos\n",
        "* numpy: Para operaciones numéricas\n",
        "* matplotlib.pyplot: Para visualización de datos\n",
        "* random: Para realizar generaciónes aleatorias\n"
      ],
      "metadata": {
        "id": "gyc8r9zN5gaa"
      }
    },
    {
      "cell_type": "code",
      "source": [
        "import pandas as pd\n",
        "import numpy as np\n",
        "import random\n",
        "import matplotlib.pyplot as plt"
      ],
      "metadata": {
        "id": "uEt0CXqI6Hdg"
      },
      "execution_count": 1,
      "outputs": []
    },
    {
      "cell_type": "markdown",
      "source": [
        "# 📥 Cargar el dataset desde Google Sheets"
      ],
      "metadata": {
        "id": "tX-ehJ3Z6YFl"
      }
    },
    {
      "cell_type": "code",
      "source": [
        "url = 'https://docs.google.com/spreadsheets/d/1Ipn6IrbQP4ax8zOnivdBIw2lN0JISkJG4fXndYd27U0/export?format=csv&gid=0'\n",
        "df = pd.read_csv(url, header=None)\n",
        "df = df.apply(pd.to_numeric, errors='coerce').fillna(0).astype(int)\n",
        "df.index.name = 'Toma'\n",
        "d = {i: set(df.loc[i][df.loc[i]==1].index) for i in df.index}"
      ],
      "metadata": {
        "id": "FLLf81bw6XKL"
      },
      "execution_count": 2,
      "outputs": []
    },
    {
      "cell_type": "markdown",
      "source": [
        "## ⚙️ Función de Costo"
      ],
      "metadata": {
        "id": "rjlyqvCeTVmj"
      }
    },
    {
      "cell_type": "code",
      "source": [
        "def calcular_coste_sesiones(sesiones, d):\n",
        "    coste_total = 0\n",
        "    for grupo in sesiones:\n",
        "        actores = set()\n",
        "        for toma in grupo:\n",
        "            actores |= d[toma]\n",
        "        coste_total += len(actores)\n",
        "    return coste_total"
      ],
      "metadata": {
        "id": "3pFsybNJTZay"
      },
      "execution_count": 3,
      "outputs": []
    },
    {
      "cell_type": "markdown",
      "source": [
        "## 🔍 Búsqueda Aleatoria\n",
        "Este algoritmo genera soluciones completamente aleatorias y mantiene la mejor encontrada durante un número de iteraciones."
      ],
      "metadata": {
        "id": "7ZTOY1ZK6ic4"
      }
    },
    {
      "cell_type": "code",
      "source": [
        "def busqueda_aleatoria(d, n=6, max_iter=10000, int_mej=500, seed=None):\n",
        "    random.seed(seed)\n",
        "    mejor_sol = None\n",
        "    mejor_coste = float('inf')\n",
        "    sin_mejora = 0\n",
        "    iteracion = 0\n",
        "    tomas = list(d.keys())\n",
        "    while iteracion < max_iter and sin_mejora < int_mej:\n",
        "        random.shuffle(tomas)\n",
        "        sesiones = [tomas[i:i+n] for i in range(0, len(tomas), n)]\n",
        "        coste = calcular_coste_sesiones(sesiones, d)\n",
        "        if coste < mejor_coste:\n",
        "            mejor_coste = coste\n",
        "            mejor_sol = sesiones\n",
        "            sin_mejora = 0\n",
        "        else:\n",
        "            sin_mejora += 1\n",
        "        iteracion += 1\n",
        "    return mejor_sol, mejor_coste"
      ],
      "metadata": {
        "id": "PZX3p9HQ6lOj"
      },
      "execution_count": 4,
      "outputs": []
    },
    {
      "cell_type": "markdown",
      "source": [
        "## ⚡ Algoritmo Voraz\n",
        "Construye cada sesión de forma secuencial eligiendo las tomas que no tienen actores en común.\n",
        "\n",
        "\n"
      ],
      "metadata": {
        "id": "DHczwXZH6uK5"
      }
    },
    {
      "cell_type": "code",
      "source": [
        "def algoritmo_voraz(d, n=6):\n",
        "    tomas = list(d.keys())\n",
        "    sesiones = []\n",
        "    while tomas:\n",
        "        grupo = [tomas.pop(0)]\n",
        "        actores = set(d[grupo[0]])\n",
        "        i = 0\n",
        "        while i < len(tomas):\n",
        "            if len(grupo) < n and actores.isdisjoint(d[tomas[i]]):\n",
        "                actores |= d[tomas[i]]\n",
        "                grupo.append(tomas.pop(i))\n",
        "            else:\n",
        "                i += 1\n",
        "        sesiones.append(grupo)\n",
        "    return sesiones"
      ],
      "metadata": {
        "id": "iuGRLhBh6w5w"
      },
      "execution_count": 5,
      "outputs": []
    },
    {
      "cell_type": "markdown",
      "source": [
        "## 🟩 Greedy Simple\n",
        "Agrupa tomas secuencialmente hasta completar sesiones de máximo 6."
      ],
      "metadata": {
        "id": "BSHlDK_YT3fh"
      }
    },
    {
      "cell_type": "code",
      "source": [
        "def greedy_simple(d, n=6):\n",
        "    tomas = list(d.keys())\n",
        "    sesiones = []\n",
        "    while tomas:\n",
        "        grupo = tomas[:n]\n",
        "        sesiones.append(grupo)\n",
        "        tomas = tomas[n:]\n",
        "    return sesiones"
      ],
      "metadata": {
        "id": "7i47hy8vT5Bf"
      },
      "execution_count": 6,
      "outputs": []
    },
    {
      "cell_type": "markdown",
      "source": [
        "## 🧠 Greedy por Compatibilidad\n",
        "Agrupa tomas maximizando compatibilidad de actores para minimizar el coste."
      ],
      "metadata": {
        "id": "i6tq4XMpULec"
      }
    },
    {
      "cell_type": "code",
      "source": [
        "def construir_matriz_compatibilidad(d, n=6):\n",
        "    N = len(d)\n",
        "    compat = np.zeros((N, N), dtype=bool)\n",
        "    for i in range(N):\n",
        "        for j in range(N):\n",
        "            if i == j:\n",
        "                compat[i][j] = True\n",
        "            elif d[i].isdisjoint(d[j]):\n",
        "                compat[i][j] = True\n",
        "    return compat\n",
        "\n",
        "def greedy_por_compatibilidad(d, n=6):\n",
        "    compat = construir_matriz_compatibilidad(d, n)\n",
        "    tomas_restantes = set(d.keys())\n",
        "    sesiones = []\n",
        "    while tomas_restantes:\n",
        "        t = tomas_restantes.pop()\n",
        "        grupo = [t]\n",
        "        compatibles = [i for i in tomas_restantes if all(compat[i][j] for j in grupo)]\n",
        "        for c in compatibles:\n",
        "            if len(grupo) < n and all(compat[c][j] for j in grupo):\n",
        "                grupo.append(c)\n",
        "        sesiones.append(grupo)\n",
        "        tomas_restantes -= set(grupo)\n",
        "    return sesiones"
      ],
      "metadata": {
        "id": "LnuduRqkUNAv"
      },
      "execution_count": 7,
      "outputs": []
    },
    {
      "cell_type": "markdown",
      "source": [
        "## 🔁 Búsqueda Local\n",
        "Intenta mejorar una solución existente intercambiando tomas entre sesiones."
      ],
      "metadata": {
        "id": "Dcbcx5ohUQZV"
      }
    },
    {
      "cell_type": "code",
      "source": [
        "def intercambiar_tomas(sesiones, d, n=6):\n",
        "    nuevo = [list(g) for g in sesiones]\n",
        "    for _ in range(10):\n",
        "        i, j = random.sample(range(len(nuevo)), 2)\n",
        "        if nuevo[i] and nuevo[j]:\n",
        "            a = random.choice(nuevo[i])\n",
        "            b = random.choice(nuevo[j])\n",
        "            nuevo[i].remove(a)\n",
        "            nuevo[j].remove(b)\n",
        "            nuevo[i].append(b)\n",
        "            nuevo[j].append(a)\n",
        "            if len(nuevo[i]) > n or len(nuevo[j]) > n:\n",
        "                return sesiones\n",
        "    return nuevo"
      ],
      "metadata": {
        "id": "0E34nnPfUQ2J"
      },
      "execution_count": 8,
      "outputs": []
    },
    {
      "cell_type": "code",
      "source": [
        "def busqueda_local(sesiones_ini, d, n=6, max_iter=10000, int_mej=500):\n",
        "    mejor = sesiones_ini\n",
        "    mejor_coste = calcular_coste_sesiones(mejor, d)\n",
        "    sin_mejora = 0\n",
        "    iteracion = 0\n",
        "    while iteracion < max_iter and sin_mejora < int_mej:\n",
        "        nueva = intercambiar_tomas(mejor, d, n)\n",
        "        coste_nueva = calcular_coste_sesiones(nueva, d)\n",
        "        if coste_nueva < mejor_coste:\n",
        "            mejor = nueva\n",
        "            mejor_coste = coste_nueva\n",
        "            sin_mejora = 0\n",
        "        else:\n",
        "            sin_mejora += 1\n",
        "        iteracion += 1\n",
        "    return mejor, mejor_coste"
      ],
      "metadata": {
        "id": "Vpt6fHPFUfaN"
      },
      "execution_count": 9,
      "outputs": []
    },
    {
      "cell_type": "markdown",
      "source": [
        "## 🚫 Búsqueda Tabú\n",
        "Evita repetir soluciones y mejora la convergencia evitando ciclos."
      ],
      "metadata": {
        "id": "EWre3ls3Uitn"
      }
    },
    {
      "cell_type": "code",
      "source": [
        "def busqueda_tabu(solucion_inicial, d, n=6, max_iter=50, tabu_tam=10):\n",
        "    mejor = solucion_inicial\n",
        "    mejor_costo = calcular_coste_sesiones(mejor, d)\n",
        "    historial = []\n",
        "    for _ in range(max_iter):\n",
        "        candidato = intercambiar_tomas(mejor, d, n)\n",
        "        if candidato in historial:\n",
        "            continue\n",
        "        costo_candidato = calcular_coste_sesiones(candidato, d)\n",
        "        if costo_candidato < mejor_costo:\n",
        "            mejor = candidato\n",
        "            mejor_costo = costo_candidato\n",
        "        historial.append(candidato)\n",
        "        if len(historial) > tabu_tam:\n",
        "            historial.pop(0)\n",
        "    return mejor, mejor_costo"
      ],
      "metadata": {
        "id": "Fgs0BaTvUkB2"
      },
      "execution_count": 10,
      "outputs": []
    },
    {
      "cell_type": "markdown",
      "source": [
        "## 📊 Comparación de Resultados"
      ],
      "metadata": {
        "id": "XSw69qM4UnGf"
      }
    },
    {
      "cell_type": "code",
      "source": [
        "resultados = []\n",
        "\n",
        "sol1, c1 = busqueda_aleatoria(d)\n",
        "resultados.append({\"Algoritmo\": \"Aleatoria\", \"Sesiones\": len(sol1), \"Costo\": c1})\n",
        "\n",
        "sol2 = algoritmo_voraz(d)\n",
        "c2 = calcular_coste_sesiones(sol2, d)\n",
        "resultados.append({\"Algoritmo\": \"Voraz\", \"Sesiones\": len(sol2), \"Costo\": c2})\n",
        "\n",
        "sol3 = greedy_simple(d)\n",
        "c3 = calcular_coste_sesiones(sol3, d)\n",
        "resultados.append({\"Algoritmo\": \"Greedy Simple\", \"Sesiones\": len(sol3), \"Costo\": c3})\n",
        "\n",
        "sol4 = greedy_por_compatibilidad(d)\n",
        "c4 = calcular_coste_sesiones(sol4, d)\n",
        "resultados.append({\"Algoritmo\": \"Greedy Compatibilidad\", \"Sesiones\": len(sol4), \"Costo\": c4})\n",
        "\n",
        "sol5, c5 = busqueda_local(sol2, d)\n",
        "resultados.append({\"Algoritmo\": \"Búsqueda Local\", \"Sesiones\": len(sol5), \"Costo\": c5})\n",
        "\n",
        "sol6, c6 = busqueda_tabu(sol2, d)\n",
        "resultados.append({\"Algoritmo\": \"Búsqueda Tabú\", \"Sesiones\": len(sol6), \"Costo\": c6})\n",
        "\n",
        "df_resultados = pd.DataFrame(resultados)\n",
        "df_resultados"
      ],
      "metadata": {
        "colab": {
          "base_uri": "https://localhost:8080/",
          "height": 237
        },
        "id": "oWn18-2DUnmu",
        "outputId": "1574ad62-1740-4449-d8c6-62e12d48d4c6"
      },
      "execution_count": 11,
      "outputs": [
        {
          "output_type": "execute_result",
          "data": {
            "text/plain": [
              "               Algoritmo  Sesiones  Costo\n",
              "0              Aleatoria         6     39\n",
              "1                  Voraz        23     96\n",
              "2          Greedy Simple         6     43\n",
              "3  Greedy Compatibilidad        23     96\n",
              "4         Búsqueda Local        23     62\n",
              "5          Búsqueda Tabú        23     68"
            ],
            "text/html": [
              "\n",
              "  <div id=\"df-24fc767a-afc5-47d5-8a0b-6104d4ed07f4\" class=\"colab-df-container\">\n",
              "    <div>\n",
              "<style scoped>\n",
              "    .dataframe tbody tr th:only-of-type {\n",
              "        vertical-align: middle;\n",
              "    }\n",
              "\n",
              "    .dataframe tbody tr th {\n",
              "        vertical-align: top;\n",
              "    }\n",
              "\n",
              "    .dataframe thead th {\n",
              "        text-align: right;\n",
              "    }\n",
              "</style>\n",
              "<table border=\"1\" class=\"dataframe\">\n",
              "  <thead>\n",
              "    <tr style=\"text-align: right;\">\n",
              "      <th></th>\n",
              "      <th>Algoritmo</th>\n",
              "      <th>Sesiones</th>\n",
              "      <th>Costo</th>\n",
              "    </tr>\n",
              "  </thead>\n",
              "  <tbody>\n",
              "    <tr>\n",
              "      <th>0</th>\n",
              "      <td>Aleatoria</td>\n",
              "      <td>6</td>\n",
              "      <td>39</td>\n",
              "    </tr>\n",
              "    <tr>\n",
              "      <th>1</th>\n",
              "      <td>Voraz</td>\n",
              "      <td>23</td>\n",
              "      <td>96</td>\n",
              "    </tr>\n",
              "    <tr>\n",
              "      <th>2</th>\n",
              "      <td>Greedy Simple</td>\n",
              "      <td>6</td>\n",
              "      <td>43</td>\n",
              "    </tr>\n",
              "    <tr>\n",
              "      <th>3</th>\n",
              "      <td>Greedy Compatibilidad</td>\n",
              "      <td>23</td>\n",
              "      <td>96</td>\n",
              "    </tr>\n",
              "    <tr>\n",
              "      <th>4</th>\n",
              "      <td>Búsqueda Local</td>\n",
              "      <td>23</td>\n",
              "      <td>62</td>\n",
              "    </tr>\n",
              "    <tr>\n",
              "      <th>5</th>\n",
              "      <td>Búsqueda Tabú</td>\n",
              "      <td>23</td>\n",
              "      <td>68</td>\n",
              "    </tr>\n",
              "  </tbody>\n",
              "</table>\n",
              "</div>\n",
              "    <div class=\"colab-df-buttons\">\n",
              "\n",
              "  <div class=\"colab-df-container\">\n",
              "    <button class=\"colab-df-convert\" onclick=\"convertToInteractive('df-24fc767a-afc5-47d5-8a0b-6104d4ed07f4')\"\n",
              "            title=\"Convert this dataframe to an interactive table.\"\n",
              "            style=\"display:none;\">\n",
              "\n",
              "  <svg xmlns=\"http://www.w3.org/2000/svg\" height=\"24px\" viewBox=\"0 -960 960 960\">\n",
              "    <path d=\"M120-120v-720h720v720H120Zm60-500h600v-160H180v160Zm220 220h160v-160H400v160Zm0 220h160v-160H400v160ZM180-400h160v-160H180v160Zm440 0h160v-160H620v160ZM180-180h160v-160H180v160Zm440 0h160v-160H620v160Z\"/>\n",
              "  </svg>\n",
              "    </button>\n",
              "\n",
              "  <style>\n",
              "    .colab-df-container {\n",
              "      display:flex;\n",
              "      gap: 12px;\n",
              "    }\n",
              "\n",
              "    .colab-df-convert {\n",
              "      background-color: #E8F0FE;\n",
              "      border: none;\n",
              "      border-radius: 50%;\n",
              "      cursor: pointer;\n",
              "      display: none;\n",
              "      fill: #1967D2;\n",
              "      height: 32px;\n",
              "      padding: 0 0 0 0;\n",
              "      width: 32px;\n",
              "    }\n",
              "\n",
              "    .colab-df-convert:hover {\n",
              "      background-color: #E2EBFA;\n",
              "      box-shadow: 0px 1px 2px rgba(60, 64, 67, 0.3), 0px 1px 3px 1px rgba(60, 64, 67, 0.15);\n",
              "      fill: #174EA6;\n",
              "    }\n",
              "\n",
              "    .colab-df-buttons div {\n",
              "      margin-bottom: 4px;\n",
              "    }\n",
              "\n",
              "    [theme=dark] .colab-df-convert {\n",
              "      background-color: #3B4455;\n",
              "      fill: #D2E3FC;\n",
              "    }\n",
              "\n",
              "    [theme=dark] .colab-df-convert:hover {\n",
              "      background-color: #434B5C;\n",
              "      box-shadow: 0px 1px 3px 1px rgba(0, 0, 0, 0.15);\n",
              "      filter: drop-shadow(0px 1px 2px rgba(0, 0, 0, 0.3));\n",
              "      fill: #FFFFFF;\n",
              "    }\n",
              "  </style>\n",
              "\n",
              "    <script>\n",
              "      const buttonEl =\n",
              "        document.querySelector('#df-24fc767a-afc5-47d5-8a0b-6104d4ed07f4 button.colab-df-convert');\n",
              "      buttonEl.style.display =\n",
              "        google.colab.kernel.accessAllowed ? 'block' : 'none';\n",
              "\n",
              "      async function convertToInteractive(key) {\n",
              "        const element = document.querySelector('#df-24fc767a-afc5-47d5-8a0b-6104d4ed07f4');\n",
              "        const dataTable =\n",
              "          await google.colab.kernel.invokeFunction('convertToInteractive',\n",
              "                                                    [key], {});\n",
              "        if (!dataTable) return;\n",
              "\n",
              "        const docLinkHtml = 'Like what you see? Visit the ' +\n",
              "          '<a target=\"_blank\" href=https://colab.research.google.com/notebooks/data_table.ipynb>data table notebook</a>'\n",
              "          + ' to learn more about interactive tables.';\n",
              "        element.innerHTML = '';\n",
              "        dataTable['output_type'] = 'display_data';\n",
              "        await google.colab.output.renderOutput(dataTable, element);\n",
              "        const docLink = document.createElement('div');\n",
              "        docLink.innerHTML = docLinkHtml;\n",
              "        element.appendChild(docLink);\n",
              "      }\n",
              "    </script>\n",
              "  </div>\n",
              "\n",
              "\n",
              "<div id=\"df-7e5de6fd-ab06-4fe6-b304-7af3d98b9551\">\n",
              "  <button class=\"colab-df-quickchart\" onclick=\"quickchart('df-7e5de6fd-ab06-4fe6-b304-7af3d98b9551')\"\n",
              "            title=\"Suggest charts\"\n",
              "            style=\"display:none;\">\n",
              "\n",
              "<svg xmlns=\"http://www.w3.org/2000/svg\" height=\"24px\"viewBox=\"0 0 24 24\"\n",
              "     width=\"24px\">\n",
              "    <g>\n",
              "        <path d=\"M19 3H5c-1.1 0-2 .9-2 2v14c0 1.1.9 2 2 2h14c1.1 0 2-.9 2-2V5c0-1.1-.9-2-2-2zM9 17H7v-7h2v7zm4 0h-2V7h2v10zm4 0h-2v-4h2v4z\"/>\n",
              "    </g>\n",
              "</svg>\n",
              "  </button>\n",
              "\n",
              "<style>\n",
              "  .colab-df-quickchart {\n",
              "      --bg-color: #E8F0FE;\n",
              "      --fill-color: #1967D2;\n",
              "      --hover-bg-color: #E2EBFA;\n",
              "      --hover-fill-color: #174EA6;\n",
              "      --disabled-fill-color: #AAA;\n",
              "      --disabled-bg-color: #DDD;\n",
              "  }\n",
              "\n",
              "  [theme=dark] .colab-df-quickchart {\n",
              "      --bg-color: #3B4455;\n",
              "      --fill-color: #D2E3FC;\n",
              "      --hover-bg-color: #434B5C;\n",
              "      --hover-fill-color: #FFFFFF;\n",
              "      --disabled-bg-color: #3B4455;\n",
              "      --disabled-fill-color: #666;\n",
              "  }\n",
              "\n",
              "  .colab-df-quickchart {\n",
              "    background-color: var(--bg-color);\n",
              "    border: none;\n",
              "    border-radius: 50%;\n",
              "    cursor: pointer;\n",
              "    display: none;\n",
              "    fill: var(--fill-color);\n",
              "    height: 32px;\n",
              "    padding: 0;\n",
              "    width: 32px;\n",
              "  }\n",
              "\n",
              "  .colab-df-quickchart:hover {\n",
              "    background-color: var(--hover-bg-color);\n",
              "    box-shadow: 0 1px 2px rgba(60, 64, 67, 0.3), 0 1px 3px 1px rgba(60, 64, 67, 0.15);\n",
              "    fill: var(--button-hover-fill-color);\n",
              "  }\n",
              "\n",
              "  .colab-df-quickchart-complete:disabled,\n",
              "  .colab-df-quickchart-complete:disabled:hover {\n",
              "    background-color: var(--disabled-bg-color);\n",
              "    fill: var(--disabled-fill-color);\n",
              "    box-shadow: none;\n",
              "  }\n",
              "\n",
              "  .colab-df-spinner {\n",
              "    border: 2px solid var(--fill-color);\n",
              "    border-color: transparent;\n",
              "    border-bottom-color: var(--fill-color);\n",
              "    animation:\n",
              "      spin 1s steps(1) infinite;\n",
              "  }\n",
              "\n",
              "  @keyframes spin {\n",
              "    0% {\n",
              "      border-color: transparent;\n",
              "      border-bottom-color: var(--fill-color);\n",
              "      border-left-color: var(--fill-color);\n",
              "    }\n",
              "    20% {\n",
              "      border-color: transparent;\n",
              "      border-left-color: var(--fill-color);\n",
              "      border-top-color: var(--fill-color);\n",
              "    }\n",
              "    30% {\n",
              "      border-color: transparent;\n",
              "      border-left-color: var(--fill-color);\n",
              "      border-top-color: var(--fill-color);\n",
              "      border-right-color: var(--fill-color);\n",
              "    }\n",
              "    40% {\n",
              "      border-color: transparent;\n",
              "      border-right-color: var(--fill-color);\n",
              "      border-top-color: var(--fill-color);\n",
              "    }\n",
              "    60% {\n",
              "      border-color: transparent;\n",
              "      border-right-color: var(--fill-color);\n",
              "    }\n",
              "    80% {\n",
              "      border-color: transparent;\n",
              "      border-right-color: var(--fill-color);\n",
              "      border-bottom-color: var(--fill-color);\n",
              "    }\n",
              "    90% {\n",
              "      border-color: transparent;\n",
              "      border-bottom-color: var(--fill-color);\n",
              "    }\n",
              "  }\n",
              "</style>\n",
              "\n",
              "  <script>\n",
              "    async function quickchart(key) {\n",
              "      const quickchartButtonEl =\n",
              "        document.querySelector('#' + key + ' button');\n",
              "      quickchartButtonEl.disabled = true;  // To prevent multiple clicks.\n",
              "      quickchartButtonEl.classList.add('colab-df-spinner');\n",
              "      try {\n",
              "        const charts = await google.colab.kernel.invokeFunction(\n",
              "            'suggestCharts', [key], {});\n",
              "      } catch (error) {\n",
              "        console.error('Error during call to suggestCharts:', error);\n",
              "      }\n",
              "      quickchartButtonEl.classList.remove('colab-df-spinner');\n",
              "      quickchartButtonEl.classList.add('colab-df-quickchart-complete');\n",
              "    }\n",
              "    (() => {\n",
              "      let quickchartButtonEl =\n",
              "        document.querySelector('#df-7e5de6fd-ab06-4fe6-b304-7af3d98b9551 button');\n",
              "      quickchartButtonEl.style.display =\n",
              "        google.colab.kernel.accessAllowed ? 'block' : 'none';\n",
              "    })();\n",
              "  </script>\n",
              "</div>\n",
              "\n",
              "  <div id=\"id_ee287b7f-d2c0-4b7b-b589-a065a678ec82\">\n",
              "    <style>\n",
              "      .colab-df-generate {\n",
              "        background-color: #E8F0FE;\n",
              "        border: none;\n",
              "        border-radius: 50%;\n",
              "        cursor: pointer;\n",
              "        display: none;\n",
              "        fill: #1967D2;\n",
              "        height: 32px;\n",
              "        padding: 0 0 0 0;\n",
              "        width: 32px;\n",
              "      }\n",
              "\n",
              "      .colab-df-generate:hover {\n",
              "        background-color: #E2EBFA;\n",
              "        box-shadow: 0px 1px 2px rgba(60, 64, 67, 0.3), 0px 1px 3px 1px rgba(60, 64, 67, 0.15);\n",
              "        fill: #174EA6;\n",
              "      }\n",
              "\n",
              "      [theme=dark] .colab-df-generate {\n",
              "        background-color: #3B4455;\n",
              "        fill: #D2E3FC;\n",
              "      }\n",
              "\n",
              "      [theme=dark] .colab-df-generate:hover {\n",
              "        background-color: #434B5C;\n",
              "        box-shadow: 0px 1px 3px 1px rgba(0, 0, 0, 0.15);\n",
              "        filter: drop-shadow(0px 1px 2px rgba(0, 0, 0, 0.3));\n",
              "        fill: #FFFFFF;\n",
              "      }\n",
              "    </style>\n",
              "    <button class=\"colab-df-generate\" onclick=\"generateWithVariable('df_resultados')\"\n",
              "            title=\"Generate code using this dataframe.\"\n",
              "            style=\"display:none;\">\n",
              "\n",
              "  <svg xmlns=\"http://www.w3.org/2000/svg\" height=\"24px\"viewBox=\"0 0 24 24\"\n",
              "       width=\"24px\">\n",
              "    <path d=\"M7,19H8.4L18.45,9,17,7.55,7,17.6ZM5,21V16.75L18.45,3.32a2,2,0,0,1,2.83,0l1.4,1.43a1.91,1.91,0,0,1,.58,1.4,1.91,1.91,0,0,1-.58,1.4L9.25,21ZM18.45,9,17,7.55Zm-12,3A5.31,5.31,0,0,0,4.9,8.1,5.31,5.31,0,0,0,1,6.5,5.31,5.31,0,0,0,4.9,4.9,5.31,5.31,0,0,0,6.5,1,5.31,5.31,0,0,0,8.1,4.9,5.31,5.31,0,0,0,12,6.5,5.46,5.46,0,0,0,6.5,12Z\"/>\n",
              "  </svg>\n",
              "    </button>\n",
              "    <script>\n",
              "      (() => {\n",
              "      const buttonEl =\n",
              "        document.querySelector('#id_ee287b7f-d2c0-4b7b-b589-a065a678ec82 button.colab-df-generate');\n",
              "      buttonEl.style.display =\n",
              "        google.colab.kernel.accessAllowed ? 'block' : 'none';\n",
              "\n",
              "      buttonEl.onclick = () => {\n",
              "        google.colab.notebook.generateWithVariable('df_resultados');\n",
              "      }\n",
              "      })();\n",
              "    </script>\n",
              "  </div>\n",
              "\n",
              "    </div>\n",
              "  </div>\n"
            ],
            "application/vnd.google.colaboratory.intrinsic+json": {
              "type": "dataframe",
              "variable_name": "df_resultados",
              "summary": "{\n  \"name\": \"df_resultados\",\n  \"rows\": 6,\n  \"fields\": [\n    {\n      \"column\": \"Algoritmo\",\n      \"properties\": {\n        \"dtype\": \"string\",\n        \"num_unique_values\": 6,\n        \"samples\": [\n          \"Aleatoria\",\n          \"Voraz\",\n          \"B\\u00fasqueda Tab\\u00fa\"\n        ],\n        \"semantic_type\": \"\",\n        \"description\": \"\"\n      }\n    },\n    {\n      \"column\": \"Sesiones\",\n      \"properties\": {\n        \"dtype\": \"number\",\n        \"std\": 8,\n        \"min\": 6,\n        \"max\": 23,\n        \"num_unique_values\": 2,\n        \"samples\": [\n          23,\n          6\n        ],\n        \"semantic_type\": \"\",\n        \"description\": \"\"\n      }\n    },\n    {\n      \"column\": \"Costo\",\n      \"properties\": {\n        \"dtype\": \"number\",\n        \"std\": 24,\n        \"min\": 39,\n        \"max\": 96,\n        \"num_unique_values\": 5,\n        \"samples\": [\n          96,\n          68\n        ],\n        \"semantic_type\": \"\",\n        \"description\": \"\"\n      }\n    }\n  ]\n}"
            }
          },
          "metadata": {},
          "execution_count": 11
        }
      ]
    },
    {
      "cell_type": "code",
      "source": [
        "fig, ax = plt.subplots(figsize=(9, 5))\n",
        "df_resultados.plot(x=\"Algoritmo\", y=[\"Sesiones\", \"Costo\"], kind=\"bar\", ax=ax)\n",
        "plt.title(\"Comparación de Algoritmos de Optimización de Tomas de Doblaje\")\n",
        "plt.ylabel(\"Valor\")\n",
        "plt.xticks(rotation=30)\n",
        "plt.grid(axis='y')\n",
        "plt.tight_layout()\n",
        "plt.show()"
      ],
      "metadata": {
        "colab": {
          "base_uri": "https://localhost:8080/",
          "height": 507
        },
        "id": "XfxoPixLUt9f",
        "outputId": "6297ee3a-ee73-44e6-a014-914caf198d27"
      },
      "execution_count": 12,
      "outputs": [
        {
          "output_type": "display_data",
          "data": {
            "text/plain": [
              "<Figure size 900x500 with 1 Axes>"
            ],
            "image/png": "[encoded data removed]"
          },
          "metadata": {}
        }
      ]
    },
    {
      "cell_type": "markdown",
      "source": [
        "# 🔧 MODELO\n",
        "\n",
        "## 🧠 ¿Cómo representamos el espacio de soluciones?\n",
        "\n",
        "Una **solución** es una planificación de los 30 clips en \"días\", donde cada día contiene un máximo de 6 tomas. Cada día implica que todos los actores necesarios estén presentes.\n",
        "\n",
        "Representamos una solución como:\n",
        "```python\n",
        "[ {0, 1, 4}, {2, 3, 5, 7}, ..., {29} ]\n",
        "\n",
        "Cada conjunto representa un día, y cada número una toma."
      ],
      "metadata": {
        "id": "qay4uXJJ7PhF"
      }
    },
    {
      "cell_type": "markdown",
      "metadata": {
        "id": "_H_aklU-Zdur"
      },
      "source": [
        "🎯 ¿Cuál es la función objetivo?\n",
        "Minimizar el número de días de grabación necesarios, es decir:\n",
        "\n",
        "min D, donde D es el número de días usados en la solución.\n",
        "\n",
        "📎 ¿Cómo implementamos las restricciones?\n",
        "Máx. 6 tomas por día\n",
        "→ Cada subconjunto de tomas (día) no debe superar 6 elementos.\n",
        "\n",
        "Coincidencia de actores\n",
        "→ Todas las tomas agrupadas deben tener actores comunes disponibles ese día. Es decir, los actores necesarios deben estar presentes simultáneamente."
      ]
    },
    {
      "cell_type": "markdown",
      "source": [
        "# 📐 MODELO MATEMÁTICO\n",
        "\n",
        "## ¿Cómo represento el espacio de soluciones?\n",
        "\n",
        "Sea $$ T = \\{t_1, t_2, \\dots, t_{30} \\} $$ el conjunto de **tomas de doblaje**.  \n",
        "El objetivo es asignar cada toma a un día de grabación, respetando que **como máximo pueden agruparse 6 tomas por día** y que los actores requeridos estén disponibles ese día.\n",
        "\n",
        "Representamos una **solución** como una partición del conjunto \\( T \\) en \\( D \\) subconjuntos disjuntos $$\\{D_1, D_2, \\dots, D_D\\} $$, tal que:\n",
        "\n",
        "- $$D_i \\subseteq T $$\n",
        "- $$ \\bigcup_{i=1}^D D_i = T $$\n",
        "- $$ D_i \\cap D_j = \\emptyset \\quad \\forall i \\neq j $$\n",
        "- $$ |D_i| \\leq 6 \\quad \\forall i \\in [1, D] $$\n",
        "\n",
        "Cada subconjunto $$ D_i $$ representa un día de grabación.\n",
        "\n",
        "Además, tenemos una matriz binaria $$ A \\in \\{0,1\\}^{30 \\times 10} $$, donde:\n",
        "\n",
        "$$\n",
        "A_{ij} =\n",
        "\\begin{cases}\n",
        "1 & \\text{si el actor } j \\text{ participa en la toma } i \\\\\n",
        "0 & \\text{en caso contrario}\n",
        "\\end{cases}\n",
        "$$\n",
        "\n",
        "---\n",
        "\n",
        "## ¿Cuál es la función objetivo?\n",
        "\n",
        "Queremos **minimizar el número total de días de grabación**, es decir:\n",
        "\n",
        "$$\n",
        "\\min D = |\\{ D_1, D_2, \\dots, D_D \\}|\n",
        "$$\n",
        "\n",
        "\n",
        "Cada día conlleva un coste fijo por actor, por lo que minimizar el número de días equivale a minimizar el coste total de producción.\n",
        "\n",
        "---\n",
        "\n",
        "## ¿Cómo implemento las restricciones?\n",
        "\n",
        "### 1. Restricción de tamaño por día:\n",
        "$$\n",
        "\\forall D_i, \\quad |D_i| \\leq 6\n",
        "$$\n",
        "\n",
        "### 2. Compatibilidad de actores:\n",
        "\n",
        "Sean \\( D_i \\) las tomas asignadas a un mismo día. Entonces, se deben poder reunir todos los actores involucrados en esas tomas en un único día. Es decir:\n",
        "\n",
        "$$\n",
        "\\forall D_i, \\quad \\exists S_i \\subseteq \\text{Actores}, \\text{ tal que } \\bigcup_{t \\in D_i} A_t \\subseteq S_i\n",
        "$$\n",
        "\n",
        "Computacionalmente, esto se traduce en verificar que **todos los actores necesarios para cualquier toma en $$ D_i $$** estén disponibles para todas las demás tomas del mismo grupo.\n",
        "\n",
        "En otras palabras: si $$ A_{D_i} $$ es la submatriz correspondiente a las tomas en $$ D_i $$, debemos comprobar que:\n",
        "\n",
        "$$\n",
        "\\text{no existe un actor } j \\text{ tal que } A_{tj} = 1 \\text{ para una toma } t \\in D_i, \\text{ y } A_{tj} = 0 \\text{ para otra toma } t' \\in D_i\n",
        "$$\n"
      ],
      "metadata": {
        "id": "VSnu_iFxArp4"
      }
    },
    {
      "cell_type": "markdown",
      "source": [
        "# 🔎 ANÁLISIS DE COMPLEJIDAD\n",
        "\n",
        "## ¿Qué complejidad tiene el problema?\n",
        "\n",
        "Este problema es un caso particular de **particionado de conjuntos con restricciones** (clustering con capacidad limitada y cohesión obligatoria). Es una variante del **Bin Packing Problem** (problema de empaquetado) con restricciones adicionales de compatibilidad, lo que lo convierte en un problema **NP-hard**.\n",
        "\n",
        "No existe un algoritmo polinomial conocido que lo resuelva de forma exacta en todos los casos.\n",
        "\n",
        "## Orden de complejidad y espacio de soluciones\n",
        "\n",
        "### Espacio de soluciones (sin restricciones):\n",
        "Queremos dividir 30 elementos en subconjuntos de tamaño ≤ 6. Esto está relacionado con los **números de Bell restringidos**, pero una aproximación del espacio de soluciones se puede estimar como:\n",
        "\n",
        "$$\n",
        "\\text{Espacio de soluciones} \\approx \\text{Número de particiones de 30 elementos con grupos de máximo 6}\n",
        "$$\n",
        "\n",
        "Esto crece **superexponencialmente**. Una cota superior muy aproximada sería:\n",
        "\n",
        "$$\n",
        "30! \\cdot 2^{29} \\approx 2.65 \\times 10^{36}\n",
        "$$\n",
        "\n",
        "### Complejidad temporal\n",
        "\n",
        "Cada evaluación de una solución implica:\n",
        "\n",
        "- Verificar que cada grupo tiene ≤ 6 tomas → $$ \\mathcal{O}(D) $$\n",
        "- Verificar compatibilidad de actores por grupo → $$ \\mathcal{O}(D \\cdot A) $$\n",
        "\n",
        "Donde $$ D $$ es el número de días y $$ A = 10 $$ es el número de actores.\n",
        "\n",
        "Por lo tanto, cada evaluación de solución es lineal en el número de días.\n",
        "\n",
        "Pero como el número de soluciones posibles es exponencial, la **búsqueda exhaustiva es computacionalmente inviable**.\n"
      ],
      "metadata": {
        "id": "5szpwPyxBCCk"
      }
    },
    {
      "cell_type": "markdown",
      "source": [
        "# 🛠️ DISEÑO DEL ENFOQUE\n",
        "\n",
        "Dado que estamos ante un problema de optimización combinatoria complejo (NP-hard), se ha optado por una combinación de algoritmos heurísticos y metaheurísticos:\n",
        "\n",
        "### 1. 🔍 Búsqueda Aleatoria\n",
        "- Genera soluciones totalmente aleatorias.\n",
        "- Útil como punto de partida para explorar el espacio de soluciones.\n",
        "- Bajo coste computacional, pero baja calidad de solución.\n",
        "\n",
        "### 2. ⚡ Algoritmo Voraz\n",
        "- Construye sesiones maximizando la compatibilidad entre tomas (sin actores en común).\n",
        "- Proporciona una solución rápida y aceptable como punto de partida.\n",
        "\n",
        "### 3. 🟩 Greedy Simple\n",
        "- Agrupa tomas en bloques de 6 sin más criterio que el orden secuencial.\n",
        "- Muy rápido, pero puede generar resultados subóptimos.\n",
        "\n",
        "### 4. 🧠 Greedy por Compatibilidad\n",
        "- Agrupa tomas maximizando la compatibilidad entre ellas (disjunción de actores).\n",
        "- Suele reducir el número total de actores por día.\n",
        "\n",
        "### 5. 🔁 Búsqueda Local\n",
        "- Mejora soluciones existentes intercambiando tomas entre sesiones.\n",
        "- Buena capacidad de refinamiento local.\n",
        "\n",
        "### 6. 🚫 Búsqueda Tabú\n",
        "- Extensión de búsqueda local con memoria.\n",
        "- Evita ciclos y estancamiento en óptimos locales.\n",
        "- Requiere gestión de lista tabú y parámetros adicionales.\n",
        "\n",
        "### 🔧 Elección de técnicas\n",
        "\n",
        "Este enfoque mixto combina:\n",
        "\n",
        "- **Exploración global** (búsqueda aleatoria, greedy).\n",
        "- **Refinamiento local** (búsqueda local, tabú).\n",
        "- **Estrategias constructivas** (voraz, compatibilidad).\n",
        "\n",
        "Todo ello proporciona un balance entre **eficiencia computacional** y **calidad de resultados**.\n",
        "\n",
        "\n",
        "NOTA: Anteriormente se incluyeron algoritmos genéticos y una combinación de Greedy simple y Greedy selectivo con algoritmos locales. En ambos casos, fue imposible realizarlos, ya que el tiempo de ejecución superaba el permitido por Google Colab, y realizando los cálculos en el computador personal, superaban las 17 y las 15 horas respectivamente antes de bloqueare el ordenador.\n"
      ],
      "metadata": {
        "id": "9dXM-G8vBJJX"
      }
    },
    {
      "cell_type": "markdown",
      "source": [
        "# ✅ Conclusiones\n",
        "\n",
        "Tras aplicar seis algoritmos diferentes al problema de optimización de sesiones de doblaje, se observan los siguientes resultados destacados:\n",
        "\n",
        "1. Búsqueda Aleatoria\n",
        "\n",
        "* Fue el algoritmo más efectivo en términos del número mínimo de sesiones (6).\n",
        "\n",
        "* Además, logró el coste más bajo (39), lo cual sorprende dado su carácter estocástico.\n",
        "\n",
        "* Esto sugiere que, dada la aleatoriedad controlada, fue capaz de encontrar una combinación especialmente eficiente.\n",
        "\n",
        "2. Greedy Simple\n",
        "\n",
        "* También consiguió 6 sesiones, pero con un coste ligeramente superior (43).\n",
        "\n",
        "* A pesar de su simplicidad, obtiene resultados razonables si las tomas están ordenadas de manera favorable.\n",
        "\n",
        "3. Voraz y Greedy por Compatibilidad\n",
        "\n",
        "* Ambos algoritmos agruparon las tomas en 23 sesiones, lo cual es un resultado muy pobre.\n",
        "\n",
        "* Aunque intentan evitar la coincidencia de actores, son demasiado conservadores, generando fragmentaciones innecesarias.\n",
        "\n",
        "* Coste muy alto: 96.\n",
        "\n",
        "4. Búsqueda Local\n",
        "\n",
        "* A partir de una solución inicial voraz, logró reducir el coste a 63 manteniendo las 23 sesiones.\n",
        "\n",
        "* Mejora la solución, pero no alcanza el rendimiento de métodos más exploratorios.\n",
        "\n",
        "5. Búsqueda Tabú\n",
        "\n",
        "* Similar a la búsqueda local, mejoró algo más hasta alcanzar un coste de 67.\n",
        "\n",
        "* Pese a evitar ciclos, no superó el rendimiento de los métodos más aleatorios."
      ],
      "metadata": {
        "id": "S-MANiOD9N0j"
      }
    },
    {
      "cell_type": "markdown",
      "source": [
        "🧠 Interpretación final\n",
        "* La búsqueda aleatoria, cuando está bien parametrizada (semilla, intentos, evaluaciones), puede ser extraordinariamente efectiva para este tipo de problemas combinatorios.\n",
        "\n",
        "* Los algoritmos voraces o puramente greedy tienen el riesgo de fragmentar la solución, especialmente si se diseñan con reglas demasiado rígidas (como evitar cualquier actor común).\n",
        "\n",
        "* Técnicas de mejora local (local y tabú) aportan valor, pero dependen fuertemente de una buena solución inicial."
      ],
      "metadata": {
        "id": "fCN07ReCYIDC"
      }
    },
    {
      "cell_type": "markdown",
      "source": [
        "🏁 Recomendación personal\n",
        "Una combinación de:\n",
        "\n",
        "* generación aleatoria inteligente (con evaluación de coste)\n",
        "\n",
        "* seguida de una búsqueda local refinada\n",
        "\n",
        "es la estrategia más efectiva para minimizar tanto sesiones como coste en este problema."
      ],
      "metadata": {
        "id": "Z2sQx9gvYTM8"
      }
    },
    {
      "cell_type": "markdown",
      "metadata": {
        "id": "cxZutR0-Zdur"
      },
      "source": [
        "# 📚 Bibliografía\n",
        "\n",
        "- Reyero, R. (2023). *Algoritmos de Optimización - Máster en Inteligencia Artificial (VIU)*\n",
        "- Cormen, T. H., Leiserson, C. E., Rivest, R. L., & Stein, C. (2009). *Introduction to Algorithms*.\n",
        "- Michalewicz, Z. (1996). *Genetic Algorithms + Data Structures = Evolution Programs*.\n",
        "- Wikipedia contributors. *Tabu search*. [https://en.wikipedia.org/wiki/Tabu_search](https://en.wikipedia.org/wiki/Tabu_search)\n"
      ]
    }
  ],
  "metadata": {
    "colab": {
      "provenance": []
    },
    "kernelspec": {
      "display_name": "Python 3 (ipykernel)",
      "language": "python",
      "name": "python3"
    },
    "language_info": {
      "codemirror_mode": {
        "name": "ipython",
        "version": 3
      },
      "file_extension": ".py",
      "mimetype": "text/x-python",
      "name": "python",
      "nbconvert_exporter": "python",
      "pygments_lexer": "ipython3",
      "version": "3.9.21"
    }
  },
  "nbformat": 4,
  "nbformat_minor": 0
}