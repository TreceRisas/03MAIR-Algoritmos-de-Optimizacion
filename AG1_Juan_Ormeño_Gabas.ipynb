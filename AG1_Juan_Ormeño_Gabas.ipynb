{
 "cells": [
  {
   "cell_type": "markdown",
   "metadata": {
    "id": "GG2D6vLdYwwy"
   },
   "source": [
    "Actividad Guiada 1 de Algoritmos de Optimizacion\n",
    "\n",
    "Nombre: Juan Ormeño Gabás\n",
    "\n",
    "https://github.com/TreceRisas/03MAIR-Algoritmos-de-Optimizacion.git"
   ]
  },
  {
   "cell_type": "markdown",
   "metadata": {},
   "source": [
    "---"
   ]
  },
  {
   "cell_type": "markdown",
   "metadata": {},
   "source": [
    "**Nota:**  Los siguientes problemas, disponene de un primer apartado con el código original, seguido de otro apartado con el código mejorado, lo que nos permitirá observar el comportamiento de un mismo problema abordándolo desde 2 formas diferentes."
   ]
  },
  {
   "cell_type": "markdown",
   "metadata": {},
   "source": [
    "---"
   ]
  },
  {
   "cell_type": "markdown",
   "metadata": {},
   "source": [
    "# 1.Las Torres de Hanói O Torres de Brahma\n",
    "\n",
    "Las Torres de Hanói es un rompecabezas o juego matemático inventado en 1883 por el matemático francés Édouard Lucas. Este juego de mesa solitario se trata de un juego con un número de discos de radio creciente que se apilan insertándose en una de las tres estacas de un tablero. El objetivo del juego es crear la pila en otra de las estacas siguiendo ciertas reglas. El problema es muy conocido en la ciencia de la computación y aparece en muchos libros de texto como introducción a la teoría de algoritmos.\r\n",
    "\r\n",
    "La fórmula para encontrar el número de movimientos necesarios para transferir n discos del poste A al poste C es: 2n - 1.\n",
    "\n",
    "Esta técnica consiste en resolver el problema a partir de las soluciones que proporcionan los subproblemas del mismo pero de menor tamaño. Al dividir el problema en subproblemas, llegamos a una solución sencilla. \n",
    "\n",
    "Para reconocer un problema que se puede resolver mediante esta técnica debemos de identificar:* Sólo se puede mover un disco a la vez.\n",
    "* Cada movimiento consiste en tomar uno de lo discos ubicados en el tope de las pilas y ubicarlo en el tope de la otra.\n",
    "* No se puede colocar un disco de mayor radio sobre otro de menor radio.\n",
    "\n",
    " Con \"n= 3\" discos, el juego puede resolverse, como mínimo, en siete movimientos. El mínimo número de movimientos requeridos para resolver el juego teniendo en cuenta un total de n discos es igual a 2n−1. Por ejemplo, en el caso de n= 64 discos, el número mínimo de movimientos es igual a 1,8446743e+ 19.l."
   ]
  },
  {
   "cell_type": "markdown",
   "metadata": {},
   "source": [
    "## 1.1. Divide y vencerás \n",
    "\n",
    "Esta técnica permite resolver el problema a partir de las soluciones que proporcionan los subproblemas del mismo con un menor tamaño. \n",
    "Al dividir el problema en subproblemas, llegamos a una solución sencilla. \n",
    "\n",
    "Para reconocer un problema que se puede resolver mediante esta técnica debemos de identificar:\n",
    "\n",
    "1.   Es podible descomponer el problema en subproblemas del mismo tipo.\n",
    "2.   Los problemas se pueden resolver de forma directa (son sencillos) o mediante recursividad.\n",
    "3.   Es posible combinar las solucione de los subproblemas para obtener la soluciñon del problema original."
   ]
  },
  {
   "cell_type": "markdown",
   "metadata": {},
   "source": []
  },
  {
   "cell_type": "code",
   "execution_count": 1,
   "metadata": {
    "colab": {
     "base_uri": "https://localhost:8080/"
    },
    "id": "rTiqLuX2ZKuL",
    "outputId": "61085698-1030-4e41-e329-42ae8d1733dd"
   },
   "outputs": [
    {
     "name": "stdout",
     "output_type": "stream",
     "text": [
      "Lleva la ficha desde 1 hasta 3\n",
      "Lleva la ficha desde 1 hasta 2\n",
      "Lleva la ficha desde 3 hasta 2\n",
      "Lleva la ficha desde 1 hasta 3\n",
      "Lleva la ficha desde 2 hasta 1\n",
      "Lleva la ficha desde 2 hasta 3\n",
      "Lleva la ficha desde 1 hasta 3\n",
      "Lleva la ficha desde 1 hasta 2\n",
      "Lleva la ficha desde 3 hasta 2\n",
      "Lleva la ficha desde 3 hasta 1\n",
      "Lleva la ficha desde 2 hasta 1\n",
      "Lleva la ficha desde 3 hasta 2\n",
      "Lleva la ficha desde 1 hasta 3\n",
      "Lleva la ficha desde 1 hasta 2\n",
      "Lleva la ficha desde 3 hasta 2\n",
      "Lleva la ficha desde 1 hasta 3\n",
      "Lleva la ficha desde 2 hasta 1\n",
      "Lleva la ficha desde 2 hasta 3\n",
      "Lleva la ficha desde 1 hasta 3\n",
      "Lleva la ficha desde 2 hasta 1\n",
      "Lleva la ficha desde 3 hasta 2\n",
      "Lleva la ficha desde 3 hasta 1\n",
      "Lleva la ficha desde 2 hasta 1\n",
      "Lleva la ficha desde 2 hasta 3\n",
      "Lleva la ficha desde 1 hasta 3\n",
      "Lleva la ficha desde 1 hasta 2\n",
      "Lleva la ficha desde 3 hasta 2\n",
      "Lleva la ficha desde 1 hasta 3\n",
      "Lleva la ficha desde 2 hasta 1\n",
      "Lleva la ficha desde 2 hasta 3\n",
      "Lleva la ficha desde 1 hasta 3\n"
     ]
    }
   ],
   "source": [
    "#Torres de Hanoi - Divide y venceras\n",
    "################################################################################\n",
    "\n",
    "\n",
    "################################################################\n",
    "def Torres_Hanoi(N, desde, hasta):\n",
    "  #N - Nº de fichas\n",
    "  #desde - torre inicial\n",
    "  #hasta - torre fina\n",
    "  if N==1 :\n",
    "    print(\"Lleva la ficha desde \" + str(desde) + \" hasta \" + str(hasta))\n",
    "\n",
    "  else:\n",
    "    Torres_Hanoi(N-1, desde, 6-desde-hasta)\n",
    "    print(\"Lleva la ficha desde \" + str(desde) + \" hasta \" + str(hasta))\n",
    "    Torres_Hanoi(N-1, 6-desde-hasta,  hasta)\n",
    "\n",
    "Torres_Hanoi(5, 1, 3)\n",
    "################################################################"
   ]
  },
  {
   "cell_type": "markdown",
   "metadata": {
    "id": "UTL6wiczQVDA"
   },
   "source": [
    "## Código mejorado"
   ]
  },
  {
   "cell_type": "code",
   "execution_count": 2,
   "metadata": {},
   "outputs": [],
   "source": [
    "def torres_de_hanoi(n, origen, destino):\n",
    "    \"\"\"\n",
    "    Resuelve el problema de las Torres de Hanoi utilizando el enfoque de Divide y Vencerás.\n",
    "\n",
    "    Args:\n",
    "    - n: Número de discos.\n",
    "    - origen: Torre de origen (1, 2 o 3).\n",
    "    - destino: Torre de destino (1, 2 o 3).\n",
    "\n",
    "    Returns:\n",
    "    - None: Imprime los movimientos necesarios para resolver el problema.\n",
    "    \"\"\"\n",
    "\n",
    "    if n == 1:\n",
    "        # Caso base: solo hay un disco para mover.\n",
    "        print(\"Mueve el disco desde la torre\", origen, \"hasta la torre\", destino)\n",
    "    else:\n",
    "        # Mover n-1 discos de la torre de origen a la torre auxiliar.\n",
    "        torres_de_hanoi(n - 1, origen, 6 - origen - destino)\n",
    "\n",
    "        # Mover el disco restante de la torre de origen a la torre destino.\n",
    "        print(\"Mueve el disco desde la torre\", origen, \"hasta la torre\", destino)\n",
    "\n",
    "        # Mover los n-1 discos de la torre auxiliar a la torre destino.\n",
    "        torres_de_hanoi(n - 1, 6 - origen - destino, destino)"
   ]
  },
  {
   "cell_type": "code",
   "execution_count": 3,
   "metadata": {},
   "outputs": [
    {
     "name": "stdout",
     "output_type": "stream",
     "text": [
      "Mueve el disco desde la torre 1 hasta la torre 3\n",
      "Mueve el disco desde la torre 1 hasta la torre 2\n",
      "Mueve el disco desde la torre 3 hasta la torre 2\n",
      "Mueve el disco desde la torre 1 hasta la torre 3\n",
      "Mueve el disco desde la torre 2 hasta la torre 1\n",
      "Mueve el disco desde la torre 2 hasta la torre 3\n",
      "Mueve el disco desde la torre 1 hasta la torre 3\n",
      "Mueve el disco desde la torre 1 hasta la torre 2\n",
      "Mueve el disco desde la torre 3 hasta la torre 2\n",
      "Mueve el disco desde la torre 3 hasta la torre 1\n",
      "Mueve el disco desde la torre 2 hasta la torre 1\n",
      "Mueve el disco desde la torre 3 hasta la torre 2\n",
      "Mueve el disco desde la torre 1 hasta la torre 3\n",
      "Mueve el disco desde la torre 1 hasta la torre 2\n",
      "Mueve el disco desde la torre 3 hasta la torre 2\n",
      "Mueve el disco desde la torre 1 hasta la torre 3\n",
      "Mueve el disco desde la torre 2 hasta la torre 1\n",
      "Mueve el disco desde la torre 2 hasta la torre 3\n",
      "Mueve el disco desde la torre 1 hasta la torre 3\n",
      "Mueve el disco desde la torre 2 hasta la torre 1\n",
      "Mueve el disco desde la torre 3 hasta la torre 2\n",
      "Mueve el disco desde la torre 3 hasta la torre 1\n",
      "Mueve el disco desde la torre 2 hasta la torre 1\n",
      "Mueve el disco desde la torre 2 hasta la torre 3\n",
      "Mueve el disco desde la torre 1 hasta la torre 3\n",
      "Mueve el disco desde la torre 1 hasta la torre 2\n",
      "Mueve el disco desde la torre 3 hasta la torre 2\n",
      "Mueve el disco desde la torre 1 hasta la torre 3\n",
      "Mueve el disco desde la torre 2 hasta la torre 1\n",
      "Mueve el disco desde la torre 2 hasta la torre 3\n",
      "Mueve el disco desde la torre 1 hasta la torre 3\n"
     ]
    }
   ],
   "source": [
    "torres_de_hanoi(5, 1, 3)"
   ]
  },
  {
   "cell_type": "code",
   "execution_count": 4,
   "metadata": {
    "colab": {
     "base_uri": "https://localhost:8080/"
    },
    "id": "YwBudj2hYoMR",
    "outputId": "812f9917-5cff-4e0a-852c-7d2e207ce7dd"
   },
   "outputs": [
    {
     "data": {
      "text/plain": [
       "[1, 0, 4]"
      ]
     },
     "execution_count": 4,
     "metadata": {},
     "output_type": "execute_result"
    }
   ],
   "source": [
    "#Cambio de monedas - Técnica voraz\n",
    "################################################################################\n",
    "SISTEMA = [11, 5 ,  1  ]\n",
    "################################################################\n",
    "def cambio_monedas(CANTIDAD,SISTEMA):\n",
    "#....\n",
    "  SOLUCION = [0]*len(SISTEMA)\n",
    "  ValorAcumulado = 0\n",
    "\n",
    "  for i,valor in enumerate(SISTEMA):\n",
    "    monedas = (CANTIDAD-ValorAcumulado)//valor\n",
    "    SOLUCION[i] = monedas\n",
    "    ValorAcumulado = ValorAcumulado + monedas*valor\n",
    "\n",
    "    if CANTIDAD == ValorAcumulado:\n",
    "      return SOLUCION\n",
    "\n",
    "  print(\"No es posible encontrar solucion\")\n",
    "\n",
    "cambio_monedas(15,SISTEMA)\n",
    "\n",
    "\n",
    "################################################################"
   ]
  },
  {
   "cell_type": "markdown",
   "metadata": {},
   "source": [
    "### Código mejorado"
   ]
  },
  {
   "cell_type": "code",
   "execution_count": 11,
   "metadata": {},
   "outputs": [],
   "source": [
    "SISTEMA = [11, 5, 1]\n",
    "\n",
    "def cambio_monedas(cantidad, sistema):\n",
    "    \"\"\"\n",
    "    Encuentra la solución al problema de cambio de monedas utilizando la técnica voraz.\n",
    "\n",
    "    Args:\n",
    "    - cantidad: La cantidad a cambiar.\n",
    "    - sistema: Lista que representa el sistema de monedas disponible.\n",
    "\n",
    "    Returns:\n",
    "    - solucion: Lista que indica la cantidad de cada tipo de moneda a utilizar.\n",
    "    \"\"\"\n",
    "    solucion = [0] * len(sistema)\n",
    "    valor_acumulado = 0\n",
    "\n",
    "    for i, valor in enumerate(sistema):\n",
    "        monedas = (cantidad - valor_acumulado) // valor\n",
    "        solucion[i] = monedas\n",
    "        valor_acumulado += monedas * valor\n",
    "\n",
    "        if cantidad == valor_acumulado:\n",
    "            return solucion\n",
    "\n",
    "    print(\"No es posible encontrar una solución\")"
   ]
  },
  {
   "cell_type": "code",
   "execution_count": 12,
   "metadata": {},
   "outputs": [
    {
     "name": "stdout",
     "output_type": "stream",
     "text": [
      "Cantidad de cada tipo de moneda a utilizar: [1, 0, 4]\n"
     ]
    }
   ],
   "source": [
    "resultado = cambio_monedas(15, SISTEMA)\n",
    "print(\"Cantidad de cada tipo de moneda a utilizar:\", resultado)"
   ]
  },
  {
   "cell_type": "code",
   "execution_count": null,
   "metadata": {
    "colab": {
     "base_uri": "https://localhost:8080/"
    },
    "id": "H4Iwt2XRZTFr",
    "outputId": "c0fd1ddb-b725-4f39-9e6e-577a792f49c7"
   },
   "outputs": [
    {
     "name": "stdout",
     "output_type": "stream",
     "text": [
      "[1, 5, 8, 6, 3, 7, 2, 4]\n",
      "[1, 6, 8, 3, 7, 4, 2, 5]\n",
      "[1, 7, 4, 6, 8, 2, 5, 3]\n",
      "[1, 7, 5, 8, 2, 4, 6, 3]\n",
      "[2, 4, 6, 8, 3, 1, 7, 5]\n",
      "[2, 5, 7, 1, 3, 8, 6, 4]\n",
      "[2, 5, 7, 4, 1, 8, 6, 3]\n",
      "[2, 6, 1, 7, 4, 8, 3, 5]\n",
      "[2, 6, 8, 3, 1, 4, 7, 5]\n",
      "[2, 7, 3, 6, 8, 5, 1, 4]\n",
      "[2, 7, 5, 8, 1, 4, 6, 3]\n",
      "[2, 8, 6, 1, 3, 5, 7, 4]\n",
      "[3, 1, 7, 5, 8, 2, 4, 6]\n",
      "[3, 5, 2, 8, 1, 7, 4, 6]\n",
      "[3, 5, 2, 8, 6, 4, 7, 1]\n",
      "[3, 5, 7, 1, 4, 2, 8, 6]\n",
      "[3, 5, 8, 4, 1, 7, 2, 6]\n",
      "[3, 6, 2, 5, 8, 1, 7, 4]\n",
      "[3, 6, 2, 7, 1, 4, 8, 5]\n",
      "[3, 6, 2, 7, 5, 1, 8, 4]\n",
      "[3, 6, 4, 1, 8, 5, 7, 2]\n",
      "[3, 6, 4, 2, 8, 5, 7, 1]\n",
      "[3, 6, 8, 1, 4, 7, 5, 2]\n",
      "[3, 6, 8, 1, 5, 7, 2, 4]\n",
      "[3, 6, 8, 2, 4, 1, 7, 5]\n",
      "[3, 7, 2, 8, 5, 1, 4, 6]\n",
      "[3, 7, 2, 8, 6, 4, 1, 5]\n",
      "[3, 8, 4, 7, 1, 6, 2, 5]\n",
      "[4, 1, 5, 8, 2, 7, 3, 6]\n",
      "[4, 1, 5, 8, 6, 3, 7, 2]\n",
      "[4, 2, 5, 8, 6, 1, 3, 7]\n",
      "[4, 2, 7, 3, 6, 8, 1, 5]\n",
      "[4, 2, 7, 3, 6, 8, 5, 1]\n",
      "[4, 2, 7, 5, 1, 8, 6, 3]\n",
      "[4, 2, 8, 5, 7, 1, 3, 6]\n",
      "[4, 2, 8, 6, 1, 3, 5, 7]\n",
      "[4, 6, 1, 5, 2, 8, 3, 7]\n",
      "[4, 6, 8, 2, 7, 1, 3, 5]\n",
      "[4, 6, 8, 3, 1, 7, 5, 2]\n",
      "[4, 7, 1, 8, 5, 2, 6, 3]\n",
      "[4, 7, 3, 8, 2, 5, 1, 6]\n",
      "[4, 7, 5, 2, 6, 1, 3, 8]\n",
      "[4, 7, 5, 3, 1, 6, 8, 2]\n",
      "[4, 8, 1, 3, 6, 2, 7, 5]\n",
      "[4, 8, 1, 5, 7, 2, 6, 3]\n",
      "[4, 8, 5, 3, 1, 7, 2, 6]\n",
      "[5, 1, 4, 6, 8, 2, 7, 3]\n",
      "[5, 1, 8, 4, 2, 7, 3, 6]\n",
      "[5, 1, 8, 6, 3, 7, 2, 4]\n",
      "[5, 2, 4, 6, 8, 3, 1, 7]\n",
      "[5, 2, 4, 7, 3, 8, 6, 1]\n",
      "[5, 2, 6, 1, 7, 4, 8, 3]\n",
      "[5, 2, 8, 1, 4, 7, 3, 6]\n",
      "[5, 3, 1, 6, 8, 2, 4, 7]\n",
      "[5, 3, 1, 7, 2, 8, 6, 4]\n",
      "[5, 3, 8, 4, 7, 1, 6, 2]\n",
      "[5, 7, 1, 3, 8, 6, 4, 2]\n",
      "[5, 7, 1, 4, 2, 8, 6, 3]\n",
      "[5, 7, 2, 4, 8, 1, 3, 6]\n",
      "[5, 7, 2, 6, 3, 1, 4, 8]\n",
      "[5, 7, 2, 6, 3, 1, 8, 4]\n",
      "[5, 7, 4, 1, 3, 8, 6, 2]\n",
      "[5, 8, 4, 1, 3, 6, 2, 7]\n",
      "[5, 8, 4, 1, 7, 2, 6, 3]\n",
      "[6, 1, 5, 2, 8, 3, 7, 4]\n",
      "[6, 2, 7, 1, 3, 5, 8, 4]\n",
      "[6, 2, 7, 1, 4, 8, 5, 3]\n",
      "[6, 3, 1, 7, 5, 8, 2, 4]\n",
      "[6, 3, 1, 8, 4, 2, 7, 5]\n",
      "[6, 3, 1, 8, 5, 2, 4, 7]\n",
      "[6, 3, 5, 7, 1, 4, 2, 8]\n",
      "[6, 3, 5, 8, 1, 4, 2, 7]\n",
      "[6, 3, 7, 2, 4, 8, 1, 5]\n",
      "[6, 3, 7, 2, 8, 5, 1, 4]\n",
      "[6, 3, 7, 4, 1, 8, 2, 5]\n",
      "[6, 4, 1, 5, 8, 2, 7, 3]\n",
      "[6, 4, 2, 8, 5, 7, 1, 3]\n",
      "[6, 4, 7, 1, 3, 5, 2, 8]\n",
      "[6, 4, 7, 1, 8, 2, 5, 3]\n",
      "[6, 8, 2, 4, 1, 7, 5, 3]\n",
      "[7, 1, 3, 8, 6, 4, 2, 5]\n",
      "[7, 2, 4, 1, 8, 5, 3, 6]\n",
      "[7, 2, 6, 3, 1, 4, 8, 5]\n",
      "[7, 3, 1, 6, 8, 5, 2, 4]\n",
      "[7, 3, 8, 2, 5, 1, 6, 4]\n",
      "[7, 4, 2, 5, 8, 1, 3, 6]\n",
      "[7, 4, 2, 8, 6, 1, 3, 5]\n",
      "[7, 5, 3, 1, 6, 8, 2, 4]\n",
      "[8, 2, 4, 1, 7, 5, 3, 6]\n",
      "[8, 2, 5, 3, 1, 7, 4, 6]\n",
      "[8, 3, 1, 6, 2, 5, 7, 4]\n",
      "[8, 4, 1, 3, 6, 2, 7, 5]\n"
     ]
    }
   ],
   "source": [
    "#N Reinas - Vuelta Atrás()\n",
    "################################################################################\n",
    "\n",
    "#Verifica que en la solución parcial no hay amenzas entre reinas\n",
    "################################################################\n",
    "def es_prometedora(SOLUCION,etapa):\n",
    "################################################################\n",
    "  #print(SOLUCION)\n",
    "  #Si la solución tiene dos valores iguales no es valida => Dos reinas en la misma fila\n",
    "  for i in range(etapa+1):\n",
    "    #print(\"El valor \" + str(SOLUCION[i]) + \" está \" +  str(SOLUCION.count(SOLUCION[i])) + \" veces\")\n",
    "    if SOLUCION.count(SOLUCION[i]) > 1:\n",
    "      return False\n",
    "\n",
    "    #Verifica las diagonales\n",
    "    for j in range(i+1, etapa +1 ):\n",
    "      #print(\"Comprobando diagonal de \" + str(i) + \" y \" + str(j))\n",
    "      if abs(i-j) == abs(SOLUCION[i]-SOLUCION[j]) : return False\n",
    "  return True\n",
    "\n",
    "#Traduce la solución al tablero\n",
    "################################################################\n",
    "def escribe_solucion(S):\n",
    "################################################################\n",
    "  n = len(S)\n",
    "  for x in range(n):\n",
    "    print(\"\")\n",
    "    for i in range(n):\n",
    "      if S[i] == x+1:\n",
    "        print(\" X \" , end=\"\")\n",
    "      else:\n",
    "        print(\" - \", end=\"\")\n",
    "\n",
    "\n",
    "\n",
    "#Proceso principal de N-Reinas\n",
    "################################################################\n",
    "def reinas(N, solucion=[],etapa=0):\n",
    "################################################################\n",
    "### ....\n",
    "  if len(solucion) == 0:         # [0,0,0...]\n",
    "    solucion = [0 for i in range(N) ]\n",
    "\n",
    "  for i in range(1, N+1):\n",
    "    solucion[etapa] = i\n",
    "    if es_prometedora(solucion, etapa):\n",
    "      if etapa == N-1:\n",
    "        print(solucion)\n",
    "      else:\n",
    "        reinas(N, solucion, etapa+1)\n",
    "    else:\n",
    "      None\n",
    "\n",
    "  solucion[etapa] = 0\n",
    "\n",
    "reinas(8,solucion=[],etapa=0)"
   ]
  },
  {
   "cell_type": "code",
   "execution_count": null,
   "metadata": {
    "colab": {
     "base_uri": "https://localhost:8080/"
    },
    "id": "eTZclKH9QV0R",
    "outputId": "12fb56f5-881a-4acc-a52d-5ed260f813ed"
   },
   "outputs": [
    {
     "name": "stdout",
     "output_type": "stream",
     "text": [
      "\n",
      " X  -  -  -  -  -  -  - \n",
      " -  -  -  -  -  -  X  - \n",
      " -  -  -  -  X  -  -  - \n",
      " -  -  -  -  -  -  -  X \n",
      " -  X  -  -  -  -  -  - \n",
      " -  -  -  X  -  -  -  - \n",
      " -  -  -  -  -  X  -  - \n",
      " -  -  X  -  -  -  -  - "
     ]
    }
   ],
   "source": [
    "escribe_solucion([1, 5, 8, 6, 3, 7, 2, 4])"
   ]
  },
  {
   "cell_type": "markdown",
   "metadata": {},
   "source": [
    "### Código mejorado"
   ]
  },
  {
   "cell_type": "code",
   "execution_count": 5,
   "metadata": {},
   "outputs": [],
   "source": [
    "def es_prometedora(solucion, etapa):\n",
    "    \"\"\"\n",
    "    Verifica que la solución parcial no tenga amenazas entre reinas.\n",
    "\n",
    "    Args:\n",
    "    - solucion: Lista que representa la solución parcial.\n",
    "    - etapa: Número de la etapa actual.\n",
    "\n",
    "    Returns:\n",
    "    - bool: True si la solución parcial es prometedora, False en caso contrario.\n",
    "    \"\"\"\n",
    "    for i in range(etapa+1):\n",
    "        if solucion.count(solucion[i]) > 1:\n",
    "            return False\n",
    "\n",
    "        for j in range(i+1, etapa + 1):\n",
    "            if abs(i-j) == abs(solucion[i]-solucion[j]):\n",
    "                return False\n",
    "    return True\n",
    "\n",
    "def reinas(n, solucion=[], etapa=0):\n",
    "    \"\"\"\n",
    "    Resuelve el problema de las N-Reinas utilizando la técnica de vuelta atrás.\n",
    "\n",
    "    Args:\n",
    "    - n: Número de reinas.\n",
    "    - solucion: Lista que representa la solución parcial.\n",
    "    - etapa: Número de la etapa actual.\n",
    "\n",
    "    Returns:\n",
    "    - None: Imprime las soluciones válidas.\n",
    "    \"\"\"\n",
    "    if len(solucion) == 0:\n",
    "        solucion = [0 for _ in range(n)]\n",
    "\n",
    "    for i in range(1, n+1):\n",
    "        solucion[etapa] = i\n",
    "        if es_prometedora(solucion, etapa):\n",
    "            if etapa == n-1:\n",
    "                print(solucion)\n",
    "            else:\n",
    "                reinas(n, solucion, etapa+1)\n",
    "\n",
    "    solucion[etapa] = 0\n"
   ]
  },
  {
   "cell_type": "code",
   "execution_count": 6,
   "metadata": {},
   "outputs": [
    {
     "name": "stdout",
     "output_type": "stream",
     "text": [
      "[1, 5, 8, 6, 3, 7, 2, 4]\n",
      "[1, 6, 8, 3, 7, 4, 2, 5]\n",
      "[1, 7, 4, 6, 8, 2, 5, 3]\n",
      "[1, 7, 5, 8, 2, 4, 6, 3]\n",
      "[2, 4, 6, 8, 3, 1, 7, 5]\n",
      "[2, 5, 7, 1, 3, 8, 6, 4]\n",
      "[2, 5, 7, 4, 1, 8, 6, 3]\n",
      "[2, 6, 1, 7, 4, 8, 3, 5]\n",
      "[2, 6, 8, 3, 1, 4, 7, 5]\n",
      "[2, 7, 3, 6, 8, 5, 1, 4]\n",
      "[2, 7, 5, 8, 1, 4, 6, 3]\n",
      "[2, 8, 6, 1, 3, 5, 7, 4]\n",
      "[3, 1, 7, 5, 8, 2, 4, 6]\n",
      "[3, 5, 2, 8, 1, 7, 4, 6]\n",
      "[3, 5, 2, 8, 6, 4, 7, 1]\n",
      "[3, 5, 7, 1, 4, 2, 8, 6]\n",
      "[3, 5, 8, 4, 1, 7, 2, 6]\n",
      "[3, 6, 2, 5, 8, 1, 7, 4]\n",
      "[3, 6, 2, 7, 1, 4, 8, 5]\n",
      "[3, 6, 2, 7, 5, 1, 8, 4]\n",
      "[3, 6, 4, 1, 8, 5, 7, 2]\n",
      "[3, 6, 4, 2, 8, 5, 7, 1]\n",
      "[3, 6, 8, 1, 4, 7, 5, 2]\n",
      "[3, 6, 8, 1, 5, 7, 2, 4]\n",
      "[3, 6, 8, 2, 4, 1, 7, 5]\n",
      "[3, 7, 2, 8, 5, 1, 4, 6]\n",
      "[3, 7, 2, 8, 6, 4, 1, 5]\n",
      "[3, 8, 4, 7, 1, 6, 2, 5]\n",
      "[4, 1, 5, 8, 2, 7, 3, 6]\n",
      "[4, 1, 5, 8, 6, 3, 7, 2]\n",
      "[4, 2, 5, 8, 6, 1, 3, 7]\n",
      "[4, 2, 7, 3, 6, 8, 1, 5]\n",
      "[4, 2, 7, 3, 6, 8, 5, 1]\n",
      "[4, 2, 7, 5, 1, 8, 6, 3]\n",
      "[4, 2, 8, 5, 7, 1, 3, 6]\n",
      "[4, 2, 8, 6, 1, 3, 5, 7]\n",
      "[4, 6, 1, 5, 2, 8, 3, 7]\n",
      "[4, 6, 8, 2, 7, 1, 3, 5]\n",
      "[4, 6, 8, 3, 1, 7, 5, 2]\n",
      "[4, 7, 1, 8, 5, 2, 6, 3]\n",
      "[4, 7, 3, 8, 2, 5, 1, 6]\n",
      "[4, 7, 5, 2, 6, 1, 3, 8]\n",
      "[4, 7, 5, 3, 1, 6, 8, 2]\n",
      "[4, 8, 1, 3, 6, 2, 7, 5]\n",
      "[4, 8, 1, 5, 7, 2, 6, 3]\n",
      "[4, 8, 5, 3, 1, 7, 2, 6]\n",
      "[5, 1, 4, 6, 8, 2, 7, 3]\n",
      "[5, 1, 8, 4, 2, 7, 3, 6]\n",
      "[5, 1, 8, 6, 3, 7, 2, 4]\n",
      "[5, 2, 4, 6, 8, 3, 1, 7]\n",
      "[5, 2, 4, 7, 3, 8, 6, 1]\n",
      "[5, 2, 6, 1, 7, 4, 8, 3]\n",
      "[5, 2, 8, 1, 4, 7, 3, 6]\n",
      "[5, 3, 1, 6, 8, 2, 4, 7]\n",
      "[5, 3, 1, 7, 2, 8, 6, 4]\n",
      "[5, 3, 8, 4, 7, 1, 6, 2]\n",
      "[5, 7, 1, 3, 8, 6, 4, 2]\n",
      "[5, 7, 1, 4, 2, 8, 6, 3]\n",
      "[5, 7, 2, 4, 8, 1, 3, 6]\n",
      "[5, 7, 2, 6, 3, 1, 4, 8]\n",
      "[5, 7, 2, 6, 3, 1, 8, 4]\n",
      "[5, 7, 4, 1, 3, 8, 6, 2]\n",
      "[5, 8, 4, 1, 3, 6, 2, 7]\n",
      "[5, 8, 4, 1, 7, 2, 6, 3]\n",
      "[6, 1, 5, 2, 8, 3, 7, 4]\n",
      "[6, 2, 7, 1, 3, 5, 8, 4]\n",
      "[6, 2, 7, 1, 4, 8, 5, 3]\n",
      "[6, 3, 1, 7, 5, 8, 2, 4]\n",
      "[6, 3, 1, 8, 4, 2, 7, 5]\n",
      "[6, 3, 1, 8, 5, 2, 4, 7]\n",
      "[6, 3, 5, 7, 1, 4, 2, 8]\n",
      "[6, 3, 5, 8, 1, 4, 2, 7]\n",
      "[6, 3, 7, 2, 4, 8, 1, 5]\n",
      "[6, 3, 7, 2, 8, 5, 1, 4]\n",
      "[6, 3, 7, 4, 1, 8, 2, 5]\n",
      "[6, 4, 1, 5, 8, 2, 7, 3]\n",
      "[6, 4, 2, 8, 5, 7, 1, 3]\n",
      "[6, 4, 7, 1, 3, 5, 2, 8]\n",
      "[6, 4, 7, 1, 8, 2, 5, 3]\n",
      "[6, 8, 2, 4, 1, 7, 5, 3]\n",
      "[7, 1, 3, 8, 6, 4, 2, 5]\n",
      "[7, 2, 4, 1, 8, 5, 3, 6]\n",
      "[7, 2, 6, 3, 1, 4, 8, 5]\n",
      "[7, 3, 1, 6, 8, 5, 2, 4]\n",
      "[7, 3, 8, 2, 5, 1, 6, 4]\n",
      "[7, 4, 2, 5, 8, 1, 3, 6]\n",
      "[7, 4, 2, 8, 6, 1, 3, 5]\n",
      "[7, 5, 3, 1, 6, 8, 2, 4]\n",
      "[8, 2, 4, 1, 7, 5, 3, 6]\n",
      "[8, 2, 5, 3, 1, 7, 4, 6]\n",
      "[8, 3, 1, 6, 2, 5, 7, 4]\n",
      "[8, 4, 1, 3, 6, 2, 7, 5]\n"
     ]
    }
   ],
   "source": [
    "reinas(8)"
   ]
  },
  {
   "cell_type": "code",
   "execution_count": 8,
   "metadata": {},
   "outputs": [],
   "source": [
    "def escribe_solucion(solucion):\n",
    "    \"\"\"\n",
    "    Imprime la solución de las N-Reinas en un tablero.\n",
    "\n",
    "    Args:\n",
    "    - solucion: Lista que representa la posición de las reinas en el tablero.\n",
    "\n",
    "    Returns:\n",
    "    - None: Imprime el tablero con las reinas ubicadas en las posiciones dadas por la solución.\n",
    "    \"\"\"\n",
    "    n = len(solucion)\n",
    "    for x in solucion:\n",
    "        row = ['X' if i == x-1 else '-' for i in range(n)]\n",
    "        print(\" \".join(row))"
   ]
  },
  {
   "cell_type": "code",
   "execution_count": 10,
   "metadata": {},
   "outputs": [
    {
     "name": "stdout",
     "output_type": "stream",
     "text": [
      "X - - - - - - -\n",
      "- - - - X - - -\n",
      "- - - - - - - X\n",
      "- - - - - X - -\n",
      "- - X - - - - -\n",
      "- - - - - - X -\n",
      "- X - - - - - -\n",
      "- - - X - - - -\n"
     ]
    }
   ],
   "source": [
    "solucion = [1, 5, 8, 6, 3, 7, 2, 4]\n",
    "escribe_solucion(solucion)"
   ]
  },
  {
   "cell_type": "code",
   "execution_count": null,
   "metadata": {
    "colab": {
     "base_uri": "https://localhost:8080/",
     "height": 381
    },
    "id": "TocxR55dQWq5",
    "outputId": "90cdf27e-b470-474a-88f3-b62f53d57215"
   },
   "outputs": [
    {
     "name": "stdout",
     "output_type": "stream",
     "text": [
      "PRECIOS\n",
      "[0, 5, 4, 3, 8, 8, 11]\n",
      "[9999, 0, 999, 2, 3, 8, 7]\n",
      "[9999, 9999, 0, 1, 6, 4, 7]\n",
      "[9999, 9999, 9999, 0, 5, 6, 9]\n",
      "[9999, 9999, 9999, 9999, 0, 999, 4]\n",
      "[9999, 9999, 9999, 9999, 9999, 0, 3]\n",
      "[9999, 9999, 9999, 9999, 9999, 9999, 9999]\n",
      "\n",
      "RUTA\n",
      "[0, 0, 0, 0, 1, 2, 5]\n",
      "['', 1, 1, 1, 1, 3, 4]\n",
      "['', '', 2, 2, 3, 2, 5]\n",
      "['', '', '', 3, 3, 3, 3]\n",
      "['', '', '', '', 4, 4, 4]\n",
      "['', '', '', '', '', 5, 5]\n",
      "['', '', '', '', '', '', '']\n",
      "\n",
      "La ruta es:\n"
     ]
    },
    {
     "data": {
      "application/vnd.google.colaboratory.intrinsic+json": {
       "type": "string"
      },
      "text/plain": [
       "',0,2,5'"
      ]
     },
     "execution_count": 2,
     "metadata": {},
     "output_type": "execute_result"
    }
   ],
   "source": [
    "#Viaje por el rio - Programación dinámica\n",
    "################################################################################\n",
    "\n",
    "TARIFAS = [\n",
    "[0,5,4,3,999,999,999],\n",
    "[999,0,999,2,3,999,11],\n",
    "[999,999, 0,1,999,4,10],\n",
    "[999,999,999, 0,5,6,9],\n",
    "[999,999, 999,999,0,999,4],\n",
    "[999,999, 999,999,999,0,3],\n",
    "[999,999,999,999,999,999,0]\n",
    "]\n",
    "\n",
    "#999 se puede sustituir por float(\"inf\")\n",
    "\n",
    "\n",
    "#Calculo de la matriz de PRECIOS y RUTAS\n",
    "################################################################\n",
    "def Precios(TARIFAS):\n",
    "################################################################\n",
    "  #Total de Nodos\n",
    "  N = len(TARIFAS[0])\n",
    "\n",
    "  #Inicialización de la tabla de precios\n",
    "  PRECIOS = [ [9999]*N for i in [9999]*N]\n",
    "  RUTA = [ [\"\"]*N for i in [\"\"]*N]\n",
    "\n",
    "  for i in range(0,N-1):\n",
    "    RUTA[i][i] = i             #Para ir de i a i se \"pasa por i\"\n",
    "    PRECIOS[i][i] = 0          #Para ir de i a i se se paga 0\n",
    "    for j in range(i+1, N):\n",
    "      MIN = TARIFAS[i][j]\n",
    "      RUTA[i][j] = i\n",
    "\n",
    "      for k in range(i, j):\n",
    "        if PRECIOS[i][k] + TARIFAS[k][j] < MIN:\n",
    "            MIN = min(MIN, PRECIOS[i][k] + TARIFAS[k][j] )\n",
    "            RUTA[i][j] = k          #Anota que para ir de i a j hay que pasar por k\n",
    "        PRECIOS[i][j] = MIN\n",
    "\n",
    "  return PRECIOS,RUTA\n",
    "################################################################\n",
    "\n",
    "PRECIOS,RUTA = Precios(TARIFAS)\n",
    "#print(PRECIOS[0][6])\n",
    "\n",
    "print(\"PRECIOS\")\n",
    "for i in range(len(TARIFAS)):\n",
    "  print(PRECIOS[i])\n",
    "\n",
    "print(\"\\nRUTA\")\n",
    "for i in range(len(TARIFAS)):\n",
    "  print(RUTA[i])\n",
    "\n",
    "#Determinar la ruta con Recursividad\n",
    "def calcular_ruta(RUTA, desde, hasta):\n",
    "  if desde == hasta:\n",
    "    #print(\"Ir a :\" + str(desde))\n",
    "    return \"\"\n",
    "  else:\n",
    "    return str(calcular_ruta( RUTA, desde, RUTA[desde][hasta])) +  \\\n",
    "                ',' + \\\n",
    "                str(RUTA[desde][hasta] \\\n",
    "              )\n",
    "\n",
    "print(\"\\nLa ruta es:\")\n",
    "calcular_ruta(RUTA, 0,6)"
   ]
  },
  {
   "cell_type": "markdown",
   "metadata": {},
   "source": [
    "### Código mejorado"
   ]
  },
  {
   "cell_type": "code",
   "execution_count": 13,
   "metadata": {},
   "outputs": [],
   "source": [
    "TARIFAS = [\n",
    "    [0, 5, 4, 3, float('inf'), float('inf'), float('inf')],\n",
    "    [float('inf'), 0, float('inf'), 2, 3, float('inf'), 11],\n",
    "    [float('inf'), float('inf'), 0, 1, float('inf'), 4, 10],\n",
    "    [float('inf'), float('inf'), float('inf'), 0, 5, 6, 9],\n",
    "    [float('inf'), float('inf'), float('inf'), float('inf'), 0, float('inf'), 4],\n",
    "    [float('inf'), float('inf'), float('inf'), float('inf'), float('inf'), 0, 3],\n",
    "    [float('inf'), float('inf'), float('inf'), float('inf'), float('inf'), float('inf'), 0]\n",
    "]\n",
    "\n",
    "def precios_rutas(tarifas):\n",
    "    \"\"\"\n",
    "    Calcula la matriz de precios y rutas utilizando programación dinámica.\n",
    "\n",
    "    Args:\n",
    "    - tarifas: Lista que representa las tarifas entre los nodos.\n",
    "\n",
    "    Returns:\n",
    "    - precios: Matriz de precios.\n",
    "    - rutas: Matriz de rutas.\n",
    "    \"\"\"\n",
    "    n = len(tarifas)\n",
    "    precios = [[float('inf')] * n for _ in range(n)]\n",
    "    rutas = [[\"\"] * n for _ in range(n)]\n",
    "\n",
    "    for i in range(n):\n",
    "        precios[i][i] = 0\n",
    "        rutas[i][i] = i\n",
    "\n",
    "    for i in range(n):\n",
    "        for j in range(i + 1, n):\n",
    "            for k in range(i, j):\n",
    "                if precios[i][k] + tarifas[k][j] < precios[i][j]:\n",
    "                    precios[i][j] = precios[i][k] + tarifas[k][j]\n",
    "                    rutas[i][j] = k\n",
    "\n",
    "    return precios, rutas\n",
    "\n",
    "def calcular_ruta(rutas, desde, hasta):\n",
    "    \"\"\"\n",
    "    Calcula la ruta óptima desde un punto de inicio hasta un punto de destino.\n",
    "\n",
    "    Args:\n",
    "    - rutas: Matriz de rutas.\n",
    "    - desde: Nodo de inicio.\n",
    "    - hasta: Nodo de destino.\n",
    "\n",
    "    Returns:\n",
    "    - ruta: Ruta óptima desde el nodo de inicio hasta el nodo de destino.\n",
    "    \"\"\"\n",
    "    if desde == hasta:\n",
    "        return str(desde)\n",
    "    else:\n",
    "        return calcular_ruta(rutas, desde, rutas[desde][hasta]) + ',' + str(hasta)"
   ]
  },
  {
   "cell_type": "code",
   "execution_count": 14,
   "metadata": {},
   "outputs": [
    {
     "name": "stdout",
     "output_type": "stream",
     "text": [
      "Matriz de Precios:\n",
      "[0, 5, 4, 3, 8, 8, 11]\n",
      "[inf, 0, inf, 2, 3, 8, 7]\n",
      "[inf, inf, 0, 1, 6, 4, 7]\n",
      "[inf, inf, inf, 0, 5, 6, 9]\n",
      "[inf, inf, inf, inf, 0, inf, 4]\n",
      "[inf, inf, inf, inf, inf, 0, 3]\n",
      "[inf, inf, inf, inf, inf, inf, 0]\n"
     ]
    }
   ],
   "source": [
    "precios, rutas = precios_rutas(TARIFAS)\n",
    "print(\"Matriz de Precios:\")\n",
    "for fila in precios:\n",
    "    print(fila)"
   ]
  }
 ],
 "metadata": {
  "colab": {
   "provenance": []
  },
  "kernelspec": {
   "display_name": "Python 3 (ipykernel)",
   "language": "python",
   "name": "python3"
  },
  "language_info": {
   "codemirror_mode": {
    "name": "ipython",
    "version": 3
   },
   "file_extension": ".py",
   "mimetype": "text/x-python",
   "name": "python",
   "nbconvert_exporter": "python",
   "pygments_lexer": "ipython3",
   "version": "3.11.5"
  }
 },
 "nbformat": 4,
 "nbformat_minor": 4
}
